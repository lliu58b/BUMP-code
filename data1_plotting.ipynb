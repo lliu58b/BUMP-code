{
 "cells": [
  {
   "cell_type": "code",
   "execution_count": 1,
   "metadata": {},
   "outputs": [],
   "source": [
    "import pandas as pd\n",
    "import numpy as np\n",
    "from matplotlib import pyplot as plt\n",
    "from scipy.optimize import curve_fit"
   ]
  },
  {
   "cell_type": "code",
   "execution_count": 4,
   "metadata": {},
   "outputs": [],
   "source": [
    "# parsing through the data \n",
    "data1 = pd.read_csv(\"matlab_sim\\data3.csv\")\n",
    "n1 = np.array([])\n",
    "N1 = np.array([])\n",
<<<<<<< HEAD
    "for i in range(101):\n",
=======
    "for i in range(102):\n",
>>>>>>> 2a797af4999ec2589a49a0f590aab67368d58541
    "    n1 = np.append(n1, data1.n.iloc[i])\n",
    "    N1 = np.append(N1, data1.N.iloc[i])"
   ]
  },
  {
   "cell_type": "code",
   "execution_count": 5,
   "metadata": {},
   "outputs": [
    {
     "data": {
      "image/png": "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\n",
      "text/plain": [
       "<Figure size 432x288 with 1 Axes>"
      ]
     },
     "metadata": {
      "needs_background": "light"
     },
     "output_type": "display_data"
    }
   ],
   "source": [
    "# plotting the figure \n",
    "plt.ion()\n",
    "plt.figure()\n",
    "plt.plot(n1, N1, 'o')\n",
    "plt.title('from n=1 to n=30')\n",
    "plt.xlabel('n: number of spots on the circle')\n",
    "plt.ylabel('N: timestep till random')\n",
    "plt.show()"
   ]
  },
  {
   "cell_type": "markdown",
   "metadata": {},
   "source": [
    "## fit the figure to a function "
   ]
  },
  {
   "cell_type": "code",
   "execution_count": 6,
   "metadata": {},
   "outputs": [],
   "source": [
    "# compute the Mean square error of this fit \n",
    "def calculate_mse(f, a, b, xdata=n1, ydata=N1):\n",
    "    mse = 0\n",
    "    for i in range(len(xdata)):\n",
    "        mse += (ydata[i] - f(xdata[i], a, b))**2\n",
    "    mse = mse / len(xdata)\n",
    "    return mse\n",
    "\n",
    "\n",
    "# create a function to fit the data to a specific kind of function\n",
    "def fit(f):\n",
    "    # fit the data\n",
    "    params, cov = curve_fit(f=f, xdata=n1, ydata=N1, p0=[1,1], bounds=(-np.inf, np.inf))\n",
    "    std_deviation = np.sqrt(np.diag(cov))\n",
    "    print('the parameter a, b are: ', params)\n",
    "    print('the standard deviation of a, b are: ', std_deviation)\n",
    "    # print('the covariance matrix of a, b is: ')\n",
    "    # print(cov)\n",
    "\n",
    "    # plot the fit\n",
    "    plt.plot(n1, N1, 'o', label='data')\n",
    "    plt.plot(n1, f(n1, params[0], params[1]), label='fit')\n",
    "    plt.legend()\n",
    "\n",
    "    # calculate the mean square error\n",
    "    mse = calculate_mse(f, params[0], params[1])\n",
    "    print('the mean square error is: ', mse)"
   ]
  },
  {
   "cell_type": "markdown",
   "metadata": {},
   "source": [
    "### exponential growth"
   ]
  },
  {
   "cell_type": "code",
   "execution_count": 7,
   "metadata": {},
   "outputs": [
    {
     "name": "stderr",
     "output_type": "stream",
     "text": [
      "C:\\Users\\brave\\Anaconda3\\lib\\site-packages\\ipykernel_launcher.py:2: RuntimeWarning: overflow encountered in exp\n",
      "  \n"
     ]
    },
    {
     "ename": "RuntimeError",
     "evalue": "Optimal parameters not found: Number of calls to function has reached maxfev = 600.",
     "output_type": "error",
     "traceback": [
      "\u001b[1;31m---------------------------------------------------------------------------\u001b[0m",
      "\u001b[1;31mRuntimeError\u001b[0m                              Traceback (most recent call last)",
      "\u001b[1;32m<ipython-input-7-06ae82acbb3b>\u001b[0m in \u001b[0;36m<module>\u001b[1;34m\u001b[0m\n\u001b[0;32m      2\u001b[0m     \u001b[1;32mreturn\u001b[0m \u001b[0ma\u001b[0m \u001b[1;33m*\u001b[0m \u001b[0mnp\u001b[0m\u001b[1;33m.\u001b[0m\u001b[0mexp\u001b[0m\u001b[1;33m(\u001b[0m\u001b[0mb\u001b[0m \u001b[1;33m*\u001b[0m \u001b[0mx\u001b[0m\u001b[1;33m)\u001b[0m  \u001b[1;31m# y = a * e^(bx)\u001b[0m\u001b[1;33m\u001b[0m\u001b[1;33m\u001b[0m\u001b[0m\n\u001b[0;32m      3\u001b[0m \u001b[1;33m\u001b[0m\u001b[0m\n\u001b[1;32m----> 4\u001b[1;33m \u001b[0mfit\u001b[0m\u001b[1;33m(\u001b[0m\u001b[0mexponential\u001b[0m\u001b[1;33m)\u001b[0m\u001b[1;33m\u001b[0m\u001b[1;33m\u001b[0m\u001b[0m\n\u001b[0m",
      "\u001b[1;32m<ipython-input-6-a672720d7623>\u001b[0m in \u001b[0;36mfit\u001b[1;34m(f)\u001b[0m\n\u001b[0;32m     11\u001b[0m \u001b[1;32mdef\u001b[0m \u001b[0mfit\u001b[0m\u001b[1;33m(\u001b[0m\u001b[0mf\u001b[0m\u001b[1;33m)\u001b[0m\u001b[1;33m:\u001b[0m\u001b[1;33m\u001b[0m\u001b[1;33m\u001b[0m\u001b[0m\n\u001b[0;32m     12\u001b[0m     \u001b[1;31m# fit the data\u001b[0m\u001b[1;33m\u001b[0m\u001b[1;33m\u001b[0m\u001b[1;33m\u001b[0m\u001b[0m\n\u001b[1;32m---> 13\u001b[1;33m     \u001b[0mparams\u001b[0m\u001b[1;33m,\u001b[0m \u001b[0mcov\u001b[0m \u001b[1;33m=\u001b[0m \u001b[0mcurve_fit\u001b[0m\u001b[1;33m(\u001b[0m\u001b[0mf\u001b[0m\u001b[1;33m=\u001b[0m\u001b[0mf\u001b[0m\u001b[1;33m,\u001b[0m \u001b[0mxdata\u001b[0m\u001b[1;33m=\u001b[0m\u001b[0mn1\u001b[0m\u001b[1;33m,\u001b[0m \u001b[0mydata\u001b[0m\u001b[1;33m=\u001b[0m\u001b[0mN1\u001b[0m\u001b[1;33m,\u001b[0m \u001b[0mp0\u001b[0m\u001b[1;33m=\u001b[0m\u001b[1;33m[\u001b[0m\u001b[1;36m1\u001b[0m\u001b[1;33m,\u001b[0m\u001b[1;36m1\u001b[0m\u001b[1;33m]\u001b[0m\u001b[1;33m,\u001b[0m \u001b[0mbounds\u001b[0m\u001b[1;33m=\u001b[0m\u001b[1;33m(\u001b[0m\u001b[1;33m-\u001b[0m\u001b[0mnp\u001b[0m\u001b[1;33m.\u001b[0m\u001b[0minf\u001b[0m\u001b[1;33m,\u001b[0m \u001b[0mnp\u001b[0m\u001b[1;33m.\u001b[0m\u001b[0minf\u001b[0m\u001b[1;33m)\u001b[0m\u001b[1;33m)\u001b[0m\u001b[1;33m\u001b[0m\u001b[1;33m\u001b[0m\u001b[0m\n\u001b[0m\u001b[0;32m     14\u001b[0m     \u001b[0mstd_deviation\u001b[0m \u001b[1;33m=\u001b[0m \u001b[0mnp\u001b[0m\u001b[1;33m.\u001b[0m\u001b[0msqrt\u001b[0m\u001b[1;33m(\u001b[0m\u001b[0mnp\u001b[0m\u001b[1;33m.\u001b[0m\u001b[0mdiag\u001b[0m\u001b[1;33m(\u001b[0m\u001b[0mcov\u001b[0m\u001b[1;33m)\u001b[0m\u001b[1;33m)\u001b[0m\u001b[1;33m\u001b[0m\u001b[1;33m\u001b[0m\u001b[0m\n\u001b[0;32m     15\u001b[0m     \u001b[0mprint\u001b[0m\u001b[1;33m(\u001b[0m\u001b[1;34m'the parameter a, b are: '\u001b[0m\u001b[1;33m,\u001b[0m \u001b[0mparams\u001b[0m\u001b[1;33m)\u001b[0m\u001b[1;33m\u001b[0m\u001b[1;33m\u001b[0m\u001b[0m\n",
      "\u001b[1;32m~\\Anaconda3\\lib\\site-packages\\scipy\\optimize\\minpack.py\u001b[0m in \u001b[0;36mcurve_fit\u001b[1;34m(f, xdata, ydata, p0, sigma, absolute_sigma, check_finite, bounds, method, jac, **kwargs)\u001b[0m\n\u001b[0;32m    766\u001b[0m         \u001b[0mcost\u001b[0m \u001b[1;33m=\u001b[0m \u001b[0mnp\u001b[0m\u001b[1;33m.\u001b[0m\u001b[0msum\u001b[0m\u001b[1;33m(\u001b[0m\u001b[0minfodict\u001b[0m\u001b[1;33m[\u001b[0m\u001b[1;34m'fvec'\u001b[0m\u001b[1;33m]\u001b[0m \u001b[1;33m**\u001b[0m \u001b[1;36m2\u001b[0m\u001b[1;33m)\u001b[0m\u001b[1;33m\u001b[0m\u001b[1;33m\u001b[0m\u001b[0m\n\u001b[0;32m    767\u001b[0m         \u001b[1;32mif\u001b[0m \u001b[0mier\u001b[0m \u001b[1;32mnot\u001b[0m \u001b[1;32min\u001b[0m \u001b[1;33m[\u001b[0m\u001b[1;36m1\u001b[0m\u001b[1;33m,\u001b[0m \u001b[1;36m2\u001b[0m\u001b[1;33m,\u001b[0m \u001b[1;36m3\u001b[0m\u001b[1;33m,\u001b[0m \u001b[1;36m4\u001b[0m\u001b[1;33m]\u001b[0m\u001b[1;33m:\u001b[0m\u001b[1;33m\u001b[0m\u001b[1;33m\u001b[0m\u001b[0m\n\u001b[1;32m--> 768\u001b[1;33m             \u001b[1;32mraise\u001b[0m \u001b[0mRuntimeError\u001b[0m\u001b[1;33m(\u001b[0m\u001b[1;34m\"Optimal parameters not found: \"\u001b[0m \u001b[1;33m+\u001b[0m \u001b[0merrmsg\u001b[0m\u001b[1;33m)\u001b[0m\u001b[1;33m\u001b[0m\u001b[1;33m\u001b[0m\u001b[0m\n\u001b[0m\u001b[0;32m    769\u001b[0m     \u001b[1;32melse\u001b[0m\u001b[1;33m:\u001b[0m\u001b[1;33m\u001b[0m\u001b[1;33m\u001b[0m\u001b[0m\n\u001b[0;32m    770\u001b[0m         \u001b[1;31m# Rename maxfev (leastsq) to max_nfev (least_squares), if specified.\u001b[0m\u001b[1;33m\u001b[0m\u001b[1;33m\u001b[0m\u001b[1;33m\u001b[0m\u001b[0m\n",
      "\u001b[1;31mRuntimeError\u001b[0m: Optimal parameters not found: Number of calls to function has reached maxfev = 600."
     ]
    }
   ],
   "source": [
    "def exponential(x, a, b):\n",
    "    return a * np.exp(b * x)  # y = a * e^(bx)\n",
    "\n",
    "fit(exponential)"
   ]
  },
  {
   "cell_type": "markdown",
   "metadata": {},
   "source": [
    "### power growth"
   ]
  },
  {
   "cell_type": "code",
   "execution_count": 8,
   "metadata": {},
   "outputs": [
    {
     "name": "stdout",
     "output_type": "stream",
     "text": [
      "the parameter a, b are:  [2.01761668 1.75631888]\n",
      "the standard deviation of a, b are:  [0.01616257 0.00119639]\n",
      "the mean square error is:  220281.55681167962\n"
     ]
    },
    {
     "data": {
      "image/png": "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\n",
      "text/plain": [
       "<Figure size 432x288 with 1 Axes>"
      ]
     },
     "metadata": {
      "needs_background": "light"
     },
     "output_type": "display_data"
    }
   ],
   "source": [
    "def power(x, a, b):\n",
    "    return a * np.power(x, b)  # y = a * x^b\n",
    "\n",
    "fit(power)"
   ]
  },
  {
   "cell_type": "code",
   "execution_count": null,
   "metadata": {},
   "outputs": [],
   "source": []
  }
 ],
 "metadata": {
  "kernelspec": {
   "display_name": "Python 3",
   "language": "python",
   "name": "python3"
  },
  "language_info": {
   "codemirror_mode": {
    "name": "ipython",
    "version": 3
   },
   "file_extension": ".py",
   "mimetype": "text/x-python",
   "name": "python",
   "nbconvert_exporter": "python",
   "pygments_lexer": "ipython3",
   "version": "3.7.6"
  }
 },
 "nbformat": 4,
 "nbformat_minor": 4
}
